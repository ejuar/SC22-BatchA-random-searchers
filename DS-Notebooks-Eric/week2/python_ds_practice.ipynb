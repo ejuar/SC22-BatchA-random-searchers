{
 "cells": [
  {
   "cell_type": "markdown",
   "metadata": {
    "collapsed": false
   },
   "source": [
    "1. make a dictionary\n",
    "2. fill the keys with names of people\n",
    "3. fill the values with a list of each person's top 3 favorite colors\n",
    "4. iterate through the dictionary, printing \"Hi my name is \", name, \"my favorite colors are \", favorite colors"
   ]
  },
  {
   "cell_type": "code",
   "execution_count": 1,
   "metadata": {
    "collapsed": false
   },
   "outputs": [
   ],
   "source": [
    "fav_colors = {\n",
    "    \"Bob\": [\"red\", \"blue\", \"yellow\"],\n",
    "    \"Dan\": [\"green\", \"red\", \"gray\"],\n",
    "    \"Sara\": [\"orange\", \"pink\", \"yellow\"]\n",
    "}"
   ]
  },
  {
   "cell_type": "code",
   "execution_count": 2,
   "metadata": {
    "collapsed": false
   },
   "outputs": [
    {
     "data": {
      "text/plain": [
       "{'Bob': ['red', 'blue', 'yellow'],\n",
       " 'Dan': ['green', 'red', 'gray'],\n",
       " 'Sara': ['orange', 'pink', 'yellow']}"
      ]
     },
     "execution_count": 2,
     "metadata": {
     },
     "output_type": "execute_result"
    }
   ],
   "source": [
    "fav_colors"
   ]
  },
  {
   "cell_type": "code",
   "execution_count": 3,
   "metadata": {
    "collapsed": false
   },
   "outputs": [
   ],
   "source": [
    "bob_fav = [\"red\", \"blue\", \"yellow\"]\n",
    "dan_fav = [\"green\", \"red\", \"gray\"]\n",
    "sara_fav = [\"orange\", \"pink\", \"yellow\"]\n",
    "\n",
    "fav_colors2 = {\n",
    "    \"Bob\": bob_fav,\n",
    "    \"Dan\": dan_fav,\n",
    "    \"Sara\": sara_fav\n",
    "}"
   ]
  },
  {
   "cell_type": "code",
   "execution_count": 4,
   "metadata": {
    "collapsed": false
   },
   "outputs": [
    {
     "data": {
      "text/plain": [
       "{'Bob': ['red', 'blue', 'yellow'],\n",
       " 'Dan': ['green', 'red', 'gray'],\n",
       " 'Sara': ['orange', 'pink', 'yellow']}"
      ]
     },
     "execution_count": 4,
     "metadata": {
     },
     "output_type": "execute_result"
    }
   ],
   "source": [
    "fav_colors2"
   ]
  },
  {
   "cell_type": "code",
   "execution_count": 7,
   "metadata": {
    "collapsed": false
   },
   "outputs": [
    {
     "name": "stdout",
     "output_type": "stream",
     "text": [
      "Hi my name is  Bob My favor colors are  ['red', 'blue', 'yellow']\n",
      "Hi my name is  Dan My favor colors are  ['green', 'red', 'gray']\n",
      "Hi my name is  Sara My favor colors are  ['orange', 'pink', 'yellow']\n"
     ]
    }
   ],
   "source": [
    "#\"Hi my name is \", name, \"my favorite colors are \", favorite colors\n",
    "\n",
    "for key, value in fav_colors.items():\n",
    "    print(\"Hi my name is \",key,\"My favor colors are \", value)"
   ]
  },
  {
   "cell_type": "code",
   "execution_count": 8,
   "metadata": {
    "collapsed": false
   },
   "outputs": [
    {
     "name": "stdout",
     "output_type": "stream",
     "text": [
      "Bob\n",
      "Dan\n",
      "Sara\n"
     ]
    }
   ],
   "source": [
    "for lsadjfsdf in fav_colors.keys():\n",
    "    print(lsadjfsdf)"
   ]
  },
  {
   "cell_type": "code",
   "execution_count": 9,
   "metadata": {
    "collapsed": false
   },
   "outputs": [
    {
     "name": "stdout",
     "output_type": "stream",
     "text": [
      "['red', 'blue', 'yellow']\n",
      "['green', 'red', 'gray']\n",
      "['orange', 'pink', 'yellow']\n"
     ]
    }
   ],
   "source": [
    "for lsadjfsdf in fav_colors.values():\n",
    "    print(lsadjfsdf)"
   ]
  },
  {
   "cell_type": "code",
   "execution_count": 0,
   "metadata": {
    "collapsed": false
   },
   "outputs": [
   ],
   "source": [
   ]
  },
  {
   "cell_type": "code",
   "execution_count": 0,
   "metadata": {
    "collapsed": false
   },
   "outputs": [
   ],
   "source": [
   ]
  },
  {
   "cell_type": "code",
   "execution_count": 0,
   "metadata": {
    "collapsed": false
   },
   "outputs": [
   ],
   "source": [
   ]
  },
  {
   "cell_type": "code",
   "execution_count": 0,
   "metadata": {
    "collapsed": false
   },
   "outputs": [
   ],
   "source": [
   ]
  }
 ],
 "metadata": {
  "kernelspec": {
   "display_name": "Python (ds_env)",
   "language": "python",
   "metadata": {
    "debugger": true
   },
   "name": "ds_env",
   "resource_dir": "/projects/ac97617a-c983-43cb-bc0f-b3be4024b0ae/.local/share/jupyter/kernels/ds_env"
  }
 },
 "nbformat": 4,
 "nbformat_minor": 4
}