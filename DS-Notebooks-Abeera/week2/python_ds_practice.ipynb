{
 "cells": [
  {
   "cell_type": "code",
   "execution_count": 13,
   "metadata": {
    "collapsed": false
   },
   "outputs": [
    {
     "name": "stdout",
     "output_type": "stream",
     "text": [
      "{'Lola': 'red, pink, blue', 'Abigail': 'Green, black, yellow', 'Neha': 'Purple'}\n"
     ]
    }
   ],
   "source": [
    "my_dictionary = {\n",
    "    \"Lola\" : \"red, pink, blue\",\n",
    "    \"S\" : \"Green, black, yellow\",\n",
    "    \"Neha\" : \"Purple\"\n",
    "} \n",
    "print(my_dictionary)"
   ]
  },
  {
   "cell_type": "code",
   "execution_count": 15,
   "metadata": {
    "collapsed": false
   },
   "outputs": [
    {
     "name": "stdout",
     "output_type": "stream",
     "text": [
      "Hi my name is Lola my favorite color is red, pink, blue\n",
      "Hi my name is Abigail my favorite color is Green, black, yellow\n",
      "Hi my name is Neha my favorite color is Purple\n"
     ]
    }
   ],
   "source": [
    "for key, value in my_dictionary.items():\n",
    "    print (\"Hi my name is\", key, \"my favorite color is\", value)"
   ]
  },
  {
   "cell_type": "code",
   "execution_count": 0,
   "metadata": {
    "collapsed": false
   },
   "outputs": [
   ],
   "source": [
   ]
  }
 ],
 "metadata": {
  "kernelspec": {
   "display_name": "Python (ds_env)",
   "language": "python",
   "metadata": {
    "debugger": true
   },
   "name": "ds_env",
   "resource_dir": "/projects/ac97617a-c983-43cb-bc0f-b3be4024b0ae/.local/share/jupyter/kernels/ds_env"
  }
 },
 "nbformat": 4,
 "nbformat_minor": 4
}