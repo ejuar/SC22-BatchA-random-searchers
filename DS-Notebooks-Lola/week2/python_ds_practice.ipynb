{
 "cells": [
  {
   "cell_type": "code",
   "execution_count": 1,
   "metadata": {
    "collapsed": false
   },
   "outputs": [
   ],
   "source": [
    "fav_colors = {\n",
    "    \"Bob\": [\"red\", \"yellow\", \"blue\"],\n",
    "    \"Gary\": [\"black\", \"purple\", \"grey\"],\n",
    "    \"Vanessa\":[\"beige\", \"orange\", \"silver\"]\n",
    "}"
   ]
  },
  {
   "cell_type": "code",
   "execution_count": 4,
   "metadata": {
    "collapsed": false
   },
   "outputs": [
    {
     "name": "stdout",
     "output_type": "stream",
     "text": [
      "Hi my name is Bob my favorite colors are ['red', 'yellow', 'blue']\n",
      "Hi my name is Gary my favorite colors are ['black', 'purple', 'grey']\n",
      "Hi my name is Vanessa my favorite colors are ['beige', 'orange', 'silver']\n"
     ]
    }
   ],
   "source": [
    "for key, value in fav_colors.items():\n",
    "    print(\"Hi my name is\",key,\"my favorite colors are\",value)"
   ]
  },
  {
   "cell_type": "code",
   "execution_count": 0,
   "metadata": {
    "collapsed": false
   },
   "outputs": [
   ],
   "source": [
   ]
  },
  {
   "cell_type": "code",
   "execution_count": 0,
   "metadata": {
    "collapsed": false
   },
   "outputs": [
   ],
   "source": [
   ]
  },
  {
   "cell_type": "code",
   "execution_count": 0,
   "metadata": {
    "collapsed": false
   },
   "outputs": [
   ],
   "source": [
   ]
  }
 ],
 "metadata": {
  "kernelspec": {
   "display_name": "Python (ds_env)",
   "language": "python",
   "metadata": {
    "debugger": true
   },
   "name": "ds_env",
   "resource_dir": "/projects/ac97617a-c983-43cb-bc0f-b3be4024b0ae/.local/share/jupyter/kernels/ds_env"
  },
  "language_info": {
   "codemirror_mode": {
    "name": "ipython",
    "version": 3
   },
   "file_extension": ".py",
   "mimetype": "text/x-python",
   "name": "python",
   "nbconvert_exporter": "python",
   "pygments_lexer": "ipython3",
   "version": "3.8.13"
  }
 },
 "nbformat": 4,
 "nbformat_minor": 4
}