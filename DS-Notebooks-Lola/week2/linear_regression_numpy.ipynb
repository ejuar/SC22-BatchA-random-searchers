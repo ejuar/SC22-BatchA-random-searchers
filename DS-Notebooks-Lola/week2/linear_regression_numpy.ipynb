{
 "cells": [
  {
   "cell_type": "markdown",
   "metadata": {
    "collapsed": false,
    "id": "K_X2fB9ta-rv"
   },
   "source": [
    "# Linear regression using NumPy"
   ]
  },
  {
   "cell_type": "code",
   "execution_count": 2,
   "metadata": {
    "collapsed": false,
    "executionInfo": {
     "elapsed": 31,
     "status": "ok",
     "timestamp": 1627498066861,
     "user": {
      "displayName": "Fernanda Murillo",
      "photoUrl": "",
      "userId": "17562885266255337733"
     },
     "user_tz": 600
    },
    "id": "IecuRdF1a-sG"
   },
   "outputs": [
   ],
   "source": [
    "# import libraries \n",
    "import numpy as np\n",
    "import matplotlib.pyplot as plt"
   ]
  },
  {
   "cell_type": "markdown",
   "metadata": {
    "collapsed": false,
    "id": "JlrQHpg8a-sI"
   },
   "source": [
    "## Data Generation"
   ]
  },
  {
   "cell_type": "code",
   "execution_count": 4,
   "metadata": {
    "collapsed": false,
    "executionInfo": {
     "elapsed": 219,
     "status": "ok",
     "timestamp": 1627498568931,
     "user": {
      "displayName": "Fernanda Murillo",
      "photoUrl": "",
      "userId": "17562885266255337733"
     },
     "user_tz": 600
    },
    "id": "BYHvay0xa-sK"
   },
   "outputs": [
   ],
   "source": [
    "# initialize your random seed to ensure reproducibility of your result\n",
    "np.random.seed(42) # Why 42 (It works well for computer science) - https://medium.com/@leticia.b/the-story-of-seed-42-874953452b94\n",
    "\n",
    "# randomly generate x which is a vector of 100 points \n",
    "x = np.random.rand(100, 1)\n",
    "\n",
    "# define exact linear function y = 1 + 2x + epsilon where epsilon (0.1*random numbers)\n",
    "y = 1 + 2 * x + .1 * np.random.randn(100, 1)"
   ]
  },
  {
   "cell_type": "markdown",
   "metadata": {
    "collapsed": false,
    "id": "irEOBQoca-sL"
   },
   "source": [
    "## split data into train and validation sets (80/20)"
   ]
  },
  {
   "cell_type": "code",
   "execution_count": 5,
   "metadata": {
    "collapsed": false,
    "executionInfo": {
     "elapsed": 235,
     "status": "ok",
     "timestamp": 1627498579768,
     "user": {
      "displayName": "Fernanda Murillo",
      "photoUrl": "",
      "userId": "17562885266255337733"
     },
     "user_tz": 600
    },
    "id": "_ntl2sX3a-sL"
   },
   "outputs": [
   ],
   "source": [
    "# Shuffles the indices\n",
    "idx = np.arange(100)\n",
    "np.random.shuffle(idx)\n",
    "\n",
    "# Uses first 80 random indices for train\n",
    "train_idx = idx[:80]\n",
    "\n",
    "# Uses the remaining indices for validation\n",
    "val_idx = idx[80:]\n",
    "\n",
    "# Generates train and validation sets\n",
    "x_train, y_train = x[train_idx], y[train_idx]\n",
    "x_val, y_val = x[val_idx], y[val_idx]\n"
   ]
  },
  {
   "cell_type": "markdown",
   "metadata": {
    "collapsed": false,
    "id": "DCCwyhkya-sM"
   },
   "source": [
    "## plot the train and validation sets"
   ]
  },
  {
   "cell_type": "code",
   "execution_count": 6,
   "metadata": {
    "colab": {
     "base_uri": "https://localhost:8080/",
     "height": 359
    },
    "collapsed": false,
    "executionInfo": {
     "elapsed": 524,
     "status": "ok",
     "timestamp": 1627498583872,
     "user": {
      "displayName": "Fernanda Murillo",
      "photoUrl": "",
      "userId": "17562885266255337733"
     },
     "user_tz": 600
    },
    "id": "W1JhyZ_Na-sM",
    "outputId": "909f5fd9-c203-45cf-d41f-58b09bb727ef"
   },
   "outputs": [
    {
     "data": {
      "image/png": "[encoded data removed]",
      "text/plain": [
       "<Figure size 720x360 with 2 Axes>"
      ]
     },
     "execution_count": 6,
     "metadata": {
      "needs_background": "light"
     },
     "output_type": "execute_result"
    }
   ],
   "source": [
    "plt.figure(figsize=(10,5))\n",
    "\n",
    "# plot the train set \n",
    "plt.subplot(1,2,1)\n",
    "plt.scatter(x_train,y_train, c='orange')  \n",
    "plt.xlabel('x', fontsize = 20) \n",
    "plt.ylabel('y', fontsize = 20)\n",
    "plt.title('Generated Data - Train')\n",
    "plt.grid('on')\n",
    "\n",
    "# plot the validation set \n",
    "plt.subplot(1,2,2)\n",
    "plt.scatter(x_val,x_val)  \n",
    "plt.xlabel('x', fontsize = 20) \n",
    "plt.ylabel('y', fontsize = 20)\n",
    "plt.title('Generated Data - Test')\n",
    "plt.grid('on')\n",
    "\n",
    "plt.show()"
   ]
  },
  {
   "cell_type": "markdown",
   "metadata": {
    "collapsed": false,
    "id": "gi4pQP8Ia-sO"
   },
   "source": [
    "## linear regression using numpy "
   ]
  },
  {
   "cell_type": "code",
   "execution_count": 7,
   "metadata": {
    "colab": {
     "base_uri": "https://localhost:8080/"
    },
    "collapsed": false,
    "executionInfo": {
     "elapsed": 241,
     "status": "ok",
     "timestamp": 1627498594869,
     "user": {
      "displayName": "Fernanda Murillo",
      "photoUrl": "",
      "userId": "17562885266255337733"
     },
     "user_tz": 600
    },
    "id": "MjeQPrOKa-sP",
    "outputId": "fe881c09-932e-46f0-9f40-79b6b5c69617"
   },
   "outputs": [
    {
     "name": "stdout",
     "output_type": "stream",
     "text": [
      "[0.49671415] [-0.1382643]\n"
     ]
    }
   ],
   "source": [
    "# initialize your random seed to ensure reproducibility of your result\n",
    "np.random.seed(42)\n",
    "\n",
    "# Initializes parameters \"a\" and \"b\" randomly - they don't need to be good yet\n",
    "a = np.random.randn(1)\n",
    "b = np.random.randn(1)\n",
    "\n",
    "# print values of a and b \n",
    "print(a, b)\n"
   ]
  },
  {
   "cell_type": "code",
   "execution_count": 9,
   "metadata": {
    "collapsed": false,
    "executionInfo": {
     "elapsed": 240,
     "status": "ok",
     "timestamp": 1627498605594,
     "user": {
      "displayName": "Fernanda Murillo",
      "photoUrl": "",
      "userId": "17562885266255337733"
     },
     "user_tz": 600
    },
    "id": "xaIPfjB1a-sP"
   },
   "outputs": [
   ],
   "source": [
    "# Initialization of hyper-parameters (in our case, only learning rate and number of epochs)\n",
    "\n",
    "# Sets learning rate (how much the AI conforms to each set of feedbacks)\n",
    "lr = 1e-1\n",
    "# Defines number of epochs (how many times training is repeated)\n",
    "n_epochs = 1000"
   ]
  },
  {
   "cell_type": "markdown",
   "metadata": {
    "collapsed": false,
    "id": "Tmk5nl_Va-sQ"
   },
   "source": [
    "### For each epoch, there are 5 training steps:\n",
    "* Compute model’s predictions \n",
    "* Compute the error (the difference between the actual value and predicted value) \n",
    "* Compute the loss ( mean square error = the average of (error)^2)\n",
    "* Compute the gradients for every parameter (require calculus)\n",
    "* Update the parameters a and b"
   ]
  },
  {
   "cell_type": "code",
   "execution_count": 10,
   "metadata": {
    "colab": {
     "base_uri": "https://localhost:8080/"
    },
    "collapsed": false,
    "executionInfo": {
     "elapsed": 230,
     "status": "ok",
     "timestamp": 1627499222901,
     "user": {
      "displayName": "Fernanda Murillo",
      "photoUrl": "",
      "userId": "17562885266255337733"
     },
     "user_tz": 600
    },
    "id": "IEGhbnhoa-sQ",
    "outputId": "6df14990-801c-4030-bd27-e2c19b95c577"
   },
   "outputs": [
    {
     "name": "stdout",
     "output_type": "stream",
     "text": [
      "[1.02354094] [1.96896411]\n"
     ]
    }
   ],
   "source": [
    "for epoch in range(n_epochs):\n",
    "    # Computes our model's predicted output\n",
    "    yhat = a + b * x_train\n",
    "    \n",
    "    # How wrong is our model? That's the error! \n",
    "    error = (y_train - yhat)\n",
    "    \n",
    "    # It is a regression, so it computes mean squared error (MSE)\n",
    "    loss = (error ** 2).mean()\n",
    "    \n",
    "    # Computes gradients for both \"a\" and \"b\" parameters\n",
    "    a_grad = -2 * error.mean()\n",
    "    b_grad = -2 * (x_train * error).mean()\n",
    "    \n",
    "    # Updates parameters using gradients and the learning rate\n",
    "    a = a - lr * a_grad\n",
    "    b = b - lr * b_grad\n",
    "    \n",
    "print(a, b)"
   ]
  },
  {
   "cell_type": "code",
   "execution_count": 11,
   "metadata": {
    "colab": {
     "base_uri": "https://localhost:8080/",
     "height": 359
    },
    "collapsed": false,
    "executionInfo": {
     "elapsed": 229,
     "status": "ok",
     "timestamp": 1627499225902,
     "user": {
      "displayName": "Fernanda Murillo",
      "photoUrl": "",
      "userId": "17562885266255337733"
     },
     "user_tz": 600
    },
    "id": "V9wnGeT_eou8",
    "outputId": "1dc573e8-ebd4-4861-94e0-ff1a6d4229d3"
   },
   "outputs": [
    {
     "data": {
      "image/png": "[encoded data removed]",
      "text/plain": [
       "<Figure size 720x360 with 1 Axes>"
      ]
     },
     "execution_count": 11,
     "metadata": {
      "needs_background": "light"
     },
     "output_type": "execute_result"
    }
   ],
   "source": [
    "plt.figure(figsize=(10,5))\n",
    "y_vals = a + b * x_val\n",
    "plt.plot(x_val, y_vals, '--')\n",
    "\n",
    "plt.scatter(x_val,y_val, c='orange')  \n",
    "plt.xlabel('x', fontsize = 20) \n",
    "plt.ylabel('y', fontsize = 20)\n",
    "plt.title('Generated Data - Train')\n",
    "plt.grid('on')\n",
    "plt.show()"
   ]
  },
  {
   "cell_type": "markdown",
   "metadata": {
    "collapsed": false,
    "id": "cbeaQMpna-sR"
   },
   "source": [
    "## check our results use Scikit-learn's linear regression\n",
    "\n",
    "Just to make sure we haven’t done any mistakes in our code, we can use Scikit-Learn’s Linear Regression to fit the model and compare the coefficients.\n",
    "\n",
    "https://scikit-learn.org/stable/modules/generated/sklearn.linear_model.LinearRegression.html"
   ]
  },
  {
   "cell_type": "code",
   "execution_count": 0,
   "metadata": {
    "colab": {
     "base_uri": "https://localhost:8080/"
    },
    "collapsed": false,
    "executionInfo": {
     "elapsed": 885,
     "status": "ok",
     "timestamp": 1627498630865,
     "user": {
      "displayName": "Fernanda Murillo",
      "photoUrl": "",
      "userId": "17562885266255337733"
     },
     "user_tz": 600
    },
    "id": "jkPf0bt4a-sV",
    "outputId": "422ab4c2-fceb-490e-ca2d-b45f09b26cff"
   },
   "outputs": [
   ],
   "source": [
    "from sklearn.linear_model import LinearRegression\n",
    "linr = LinearRegression()\n",
    "linr.fit(x_train, y_train)\n",
    "print(linr.intercept_, linr.coef_[0])"
   ]
  },
  {
   "cell_type": "markdown",
   "metadata": {
    "collapsed": false,
    "id": "yE4V3P9aa-sX"
   },
   "source": [
    "## The results!\n",
    "\n",
    "They match up to 6 decimal places — we have a fully working implementation of linear regression using Numpy."
   ]
  },
  {
   "cell_type": "code",
   "execution_count": 0,
   "metadata": {
    "collapsed": false,
    "id": "owTTVO4Ba-sY"
   },
   "outputs": [
   ],
   "source": [
   ]
  },
  {
   "cell_type": "code",
   "execution_count": 0,
   "metadata": {
    "collapsed": false,
    "id": "l5xP_R3ya-sZ"
   },
   "outputs": [
   ],
   "source": [
   ]
  },
  {
   "cell_type": "code",
   "execution_count": 0,
   "metadata": {
    "collapsed": false,
    "id": "8vkl-uJMa-sZ"
   },
   "outputs": [
   ],
   "source": [
   ]
  },
  {
   "cell_type": "code",
   "execution_count": 0,
   "metadata": {
    "collapsed": false,
    "id": "mdxlUKLka-sZ"
   },
   "outputs": [
   ],
   "source": [
   ]
  },
  {
   "cell_type": "code",
   "execution_count": 0,
   "metadata": {
    "collapsed": false,
    "id": "bUuZFIRxa-sZ"
   },
   "outputs": [
   ],
   "source": [
   ]
  },
  {
   "cell_type": "code",
   "execution_count": 0,
   "metadata": {
    "collapsed": false,
    "id": "7ubqNNVxa-sZ"
   },
   "outputs": [
   ],
   "source": [
   ]
  },
  {
   "cell_type": "code",
   "execution_count": 0,
   "metadata": {
    "collapsed": false,
    "id": "VPv4Rha8a-sa"
   },
   "outputs": [
   ],
   "source": [
   ]
  },
  {
   "cell_type": "code",
   "execution_count": 0,
   "metadata": {
    "collapsed": false,
    "id": "cvxyHdHha-sa"
   },
   "outputs": [
   ],
   "source": [
   ]
  },
  {
   "cell_type": "code",
   "execution_count": 0,
   "metadata": {
    "collapsed": false,
    "id": "ox6WlPb7a-sa"
   },
   "outputs": [
   ],
   "source": [
   ]
  }
 ],
 "metadata": {
  "colab": {
   "name": "linear_regression_numpy_tutorial.ipynb",
   "provenance": [
   ]
  },
  "kernelspec": {
   "display_name": "Python (ds_env)",
   "language": "python",
   "metadata": {
    "debugger": true
   },
   "name": "ds_env",
   "resource_dir": "/projects/ac97617a-c983-43cb-bc0f-b3be4024b0ae/.local/share/jupyter/kernels/ds_env"
  },
  "language_info": {
   "codemirror_mode": {
    "name": "ipython",
    "version": 3
   },
   "file_extension": ".py",
   "mimetype": "text/x-python",
   "name": "python",
   "nbconvert_exporter": "python",
   "pygments_lexer": "ipython3",
   "version": "3.8.5"
  }
 },
 "nbformat": 4,
 "nbformat_minor": 4
}