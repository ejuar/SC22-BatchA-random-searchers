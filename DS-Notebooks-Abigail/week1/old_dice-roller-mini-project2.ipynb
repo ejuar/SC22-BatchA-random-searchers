{
 "cells": [
  {
   "cell_type": "markdown",
   "metadata": {
    "collapsed": false
   },
   "source": [
    "# Dice Roller Mini Project\n",
    "This is a python project aimed at teaching students core concepts about coding and python. This project will feature the ability to specify the number of faces on the dice and as well as ask the user if they want to play again. If you want to add a challenge, you can ask the user how many dice they want to roll."
   ]
  },
  {
   "cell_type": "markdown",
   "metadata": {
    "collapsed": false
   },
   "source": [
    "Lets go ahead and get started. I'll start by breaking up the project into 3 sections. The first section will cover getting input from the user and changing data types in python. The second section will cover generating random numbers in python. The third section will cover loops and implementing the challenge part of our project"
   ]
  },
  {
   "cell_type": "markdown",
   "metadata": {
    "collapsed": false
   },
   "source": [
    "## Section 1: User input"
   ]
  },
  {
   "cell_type": "markdown",
   "metadata": {
    "collapsed": false
   },
   "source": [
    "To get user input in python, all we need to do is use the \"input\" function and save the information to a variable. Click the play button below to see that in action...\n",
    "\n"
   ]
  },
  {
   "cell_type": "code",
   "execution_count": 0,
   "metadata": {
    "collapsed": false
   },
   "outputs": [
   ],
   "source": [
    "user_input = input()\n",
    "user_input"
   ]
  },
  {
   "cell_type": "code",
   "execution_count": 0,
   "metadata": {
    "collapsed": false
   },
   "outputs": [
   ],
   "source": [
    "usrinput=input()\n",
    "usrinput"
   ]
  },
  {
   "cell_type": "code",
   "execution_count": 0,
   "metadata": {
    "collapsed": false
   },
   "outputs": [
   ],
   "source": [
    "userinput=input(\"please write your name here\")\n",
    "userinput"
   ]
  },
  {
   "cell_type": "markdown",
   "metadata": {
    "collapsed": false
   },
   "source": [
    "The input function also lets us add a prompt by typing what we want to send to the user in the parenteses as we can see below."
   ]
  },
  {
   "cell_type": "code",
   "execution_count": 0,
   "metadata": {
    "collapsed": false
   },
   "outputs": [
   ],
   "source": [
    "user_input = input(\"Please write your name here: \")\n",
    "user_input"
   ]
  },
  {
   "cell_type": "markdown",
   "metadata": {
    "collapsed": false
   },
   "source": [
    "This input is always read as text, or as a string. If we want to use user input in an equation, we would need to convert the string to an integer, or an int. For the default example 13 was entered, then 12."
   ]
  },
  {
   "cell_type": "code",
   "execution_count": 0,
   "metadata": {
    "collapsed": false
   },
   "outputs": [
   ],
   "source": [
    "# Adding user inputs without converting to ints\n",
    "user_input1 = input(\"Write a number here: \")\n",
    "user_input2 = input(\"Write a second number here: \")\n",
    "print('The sum of the numbers is: ', user_input1 + user_input2)"
   ]
  },
  {
   "cell_type": "code",
   "execution_count": 0,
   "metadata": {
    "collapsed": false
   },
   "outputs": [
   ],
   "source": [
    "# Adding user inputs with converting to ints\n",
    "user_input1 = input(\"Write a number here: \")\n",
    "user_input2 = input(\"Write a second number here: \")\n",
    "print('The sum of the numbers is: ', int(user_input1) + int(user_input2))"
   ]
  },
  {
   "cell_type": "markdown",
   "metadata": {
    "collapsed": false
   },
   "source": [
    "Now its your turn to try. Go ahead and write some code below asking the user to input some number that we will convert to an int. Then if it is a positive number, print out \"This is a positive number\", else, print out \"This is not a positive number\"."
   ]
  },
  {
   "cell_type": "code",
   "execution_count": 0,
   "metadata": {
    "collapsed": false
   },
   "outputs": [
   ],
   "source": [
    "book = input(\"'write a number here'\")\n",
    "book = int(book)\n",
    "if  book> 0:\n",
    "    print('this is a positive number')\n",
    "else:\n",
    "    print('this is not a positive number')"
   ]
  },
  {
   "cell_type": "markdown",
   "metadata": {
    "collapsed": false
   },
   "source": [
    "## Section 2: Generating Random Numbers"
   ]
  },
  {
   "cell_type": "markdown",
   "metadata": {
    "collapsed": false
   },
   "source": [
    "Python uses the \"random\" module to generate (functionally) random numbers as well as performing a variety of chance based tasks. In order to use this module, all we need to do is type \"import random\". Though this also works for all install modules, \"random\" is a default module that comes with python. After we import it, we will generate and print a random decimal between 0 and 1"
   ]
  },
  {
   "cell_type": "code",
   "execution_count": 0,
   "metadata": {
    "collapsed": false
   },
   "outputs": [
   ],
   "source": [
    "import random\n",
    "random.random()"
   ]
  },
  {
   "cell_type": "markdown",
   "metadata": {
    "collapsed": false
   },
   "source": [
    "To generate a random integer between two specified numbers, all we need to do is use the \"randint\" function as seen below. Its important to note that this function includes the numbers in the parenteses, meaning that the below function can generate the numbers 0 and 10."
   ]
  },
  {
   "cell_type": "code",
   "execution_count": 0,
   "metadata": {
    "collapsed": false
   },
   "outputs": [
   ],
   "source": [
    "import random\n",
    "random.randint(0, 10)"
   ]
  },
  {
   "cell_type": "markdown",
   "metadata": {
    "collapsed": false
   },
   "source": [
    "Now its your turn, go ahead and generate a random number between 0 and 50. Then, if the number is greater than 25, print \"Large number generated\", otherwise, print \"Small number generated\""
   ]
  },
  {
   "cell_type": "code",
   "execution_count": 0,
   "metadata": {
    "collapsed": false
   },
   "outputs": [
   ],
   "source": [
    "import random\n",
    "n=random.randint(0,50)\n",
    "print (n)\n",
    "if n>50:\n",
    "    print('large number generated')\n",
    "elif 25<n<50:\n",
    "    print('medium number generated')\n",
    "elif 25>n:\n",
    "    print('small number generated')"
   ]
  },
  {
   "cell_type": "markdown",
   "metadata": {
    "collapsed": false
   },
   "source": [
    "## Section 3: Loops and Challenge"
   ]
  },
  {
   "cell_type": "markdown",
   "metadata": {
    "collapsed": false
   },
   "source": [
    "In this section, we will talk about for loops and while loops. In general, for loops are better for running a block of code a set number of times and while loops are better for running a block of code until some condition changes or is met. We'll start off by looking at for loops."
   ]
  },
  {
   "cell_type": "markdown",
   "metadata": {
    "collapsed": false
   },
   "source": [
    "Our first for loop will run the indented block of code 5 times, we can see this in the output where the print statement is run 5 times"
   ]
  },
  {
   "cell_type": "code",
   "execution_count": 0,
   "metadata": {
    "collapsed": false
   },
   "outputs": [
   ],
   "source": [
    "for i in range(5):\n",
    "    print(\"Hello World\")"
   ]
  },
  {
   "cell_type": "markdown",
   "metadata": {
    "collapsed": false
   },
   "source": [
    "You should notice the range function as a part of the for loop, this is because python only has for loops that iterate over a list. For now, you don't have to worry about what the means, but the important take away is that the range function allows you to loop from 0 to the number in the parentheses, setting \"i\" to the current value. This value changes every loop through. We can see this below."
   ]
  },
  {
   "cell_type": "code",
   "execution_count": 0,
   "metadata": {
    "collapsed": false
   },
   "outputs": [
   ],
   "source": [
    "for i in range(5):\n",
    "    print(i)"
   ]
  },
  {
   "cell_type": "markdown",
   "metadata": {
    "collapsed": false
   },
   "source": [
    "At its most basic level, a for loop will run the code below it however many times you specified. Go ahead and write some code below that prints out \"I love pizza\" 12 times."
   ]
  },
  {
   "cell_type": "code",
   "execution_count": 0,
   "metadata": {
    "cocalc": {
     "outputs": {
      "0": {
       "name": "input",
       "opts": {
        "password": false,
        "prompt": "write a number here"
       },
       "output_type": "stream",
       "value": "3"
      }
     }
    },
    "collapsed": false
   },
   "outputs": [
   ],
   "source": [
    "userinput=input('write a number here')\n",
    "userinput=int(userinput)\n",
    "for i in range(userinput):\n",
    "    print('i love pizza')"
   ]
  },
  {
   "cell_type": "markdown",
   "metadata": {
    "collapsed": false
   },
   "source": [
    "Next, we'll take a look at while loops. In general, you can make a while loop do anything that a for loop can do but with slightly different syntax, so if you find youself understanding while loops better than for loops, you can just focus on using them. "
   ]
  },
  {
   "cell_type": "markdown",
   "metadata": {
    "collapsed": false
   },
   "source": [
    "In the block below, we will make a while loop that runs 5 times ( mimicking \"for i in range(5)\" ). For while loops, they have the potential to run infinetly. While we may want this, it can also freeze our program. This means we need to set an acheivable end condition, or state where the loop will end."
   ]
  },
  {
   "cell_type": "code",
   "execution_count": 0,
   "metadata": {
    "collapsed": false
   },
   "outputs": [
   ],
   "source": [
    "i = 0\n",
    "while i < 5:\n",
    "    print(\"Hello World\")\n",
    "    i = i + 1"
   ]
  },
  {
   "cell_type": "code",
   "execution_count": 0,
   "metadata": {
    "collapsed": false
   },
   "outputs": [
   ],
   "source": [
   ]
  },
  {
   "cell_type": "markdown",
   "metadata": {
    "collapsed": false
   },
   "source": [
    "We can see that the variable \"i\" is increased each time the loop is run. Then, once \"i\" stops being less than 5, the code stops running. Similar to the for loop, lets print out \"i\" on each run of the code to see what it is."
   ]
  },
  {
   "cell_type": "code",
   "execution_count": 0,
   "metadata": {
    "collapsed": false
   },
   "outputs": [
   ],
   "source": [
    "i = 0\n",
    "while i < 5:\n",
    "    print(i)\n",
    "    i = i + 1"
   ]
  },
  {
   "cell_type": "markdown",
   "metadata": {
    "collapsed": false
   },
   "source": [
    "Unlike with for loops, in while loops it is important where in the loop the code is. For example, in the loop below we will swap the print line and the \"i = i + 1\" line and see what that does to the output."
   ]
  },
  {
   "cell_type": "code",
   "execution_count": 0,
   "metadata": {
    "collapsed": false
   },
   "outputs": [
   ],
   "source": [
    "i = 0\n",
    "while i < 5:\n",
    "    i = i + 1\n",
    "    print(i)"
   ]
  },
  {
   "cell_type": "markdown",
   "metadata": {
    "collapsed": false
   },
   "source": [
    "While the code still runs 5 times, the output has changed. It now includes 5! This is because the value of \"i\" is only checked when starting to run the loop. Its important to keep this in mind as we continue working with while loops."
   ]
  },
  {
   "cell_type": "markdown",
   "metadata": {
    "collapsed": false
   },
   "source": [
    "Try writting a while loop that prints out all the even numbers from 0 to 10, including 10, in the next block"
   ]
  },
  {
   "cell_type": "code",
   "execution_count": 0,
   "metadata": {
    "collapsed": false
   },
   "outputs": [
   ],
   "source": [
    "i=0\n",
    "while i<11:\n",
    "    print(i)\n",
    "    i=i+2"
   ]
  },
  {
   "cell_type": "markdown",
   "metadata": {
    "collapsed": false
   },
   "source": [
    "Now we will run a while loop that doesn't stop until it recieves a specific user input. For more information on user inputs, check out section 1. Keep in mind that the comparison is case sensitive."
   ]
  },
  {
   "cell_type": "code",
   "execution_count": 0,
   "metadata": {
    "collapsed": false
   },
   "outputs": [
   ],
   "source": [
    "user_in = ''\n",
    "while user_in != \"exit\":\n",
    "    user_in = input(\"Write a word here. type exit to end the loop\")\n",
    "    print(\"user entered: \", user_in)"
   ]
  },
  {
   "cell_type": "code",
   "execution_count": 0,
   "metadata": {
    "collapsed": false
   },
   "outputs": [
   ],
   "source": [
   ]
  },
  {
   "cell_type": "markdown",
   "metadata": {
    "collapsed": false
   },
   "source": [
    "## Section 4: Putting it all together\n",
    "\n"
   ]
  },
  {
   "cell_type": "markdown",
   "metadata": {
    "collapsed": false
   },
   "source": [
    "Now its time to put the entire thing together and create one big project together. The 3 different sections should fit together below. We will need a while loop that runs until the user types in \"no\" or \"stop\". Then we need to ask the user to enter how many faces the die should have. Next we need to pick a random number between 1 and the user selected number."
   ]
  },
  {
   "cell_type": "code",
   "execution_count": 0,
   "metadata": {
    "cocalc": {
     "outputs": {
      "0": {
       "name": "input",
       "opts": {
        "password": false,
        "prompt": "how many faces does the die have?"
       },
       "output_type": "stream",
       "value": "6"
      }
     }
    },
    "collapsed": false
   },
   "outputs": [
   ],
   "source": [
    "input1=input('how many faces does the die have?')\n",
    "input1=int(input1)\n",
    "import random\n",
    "n=random.randint(1,input1)\n",
    "print(n)"
   ]
  },
  {
   "cell_type": "code",
   "execution_count": 4,
   "metadata": {
    "cocalc": {
     "outputs": {
      "0": {
       "name": "input",
       "opts": {
        "password": false,
        "prompt": "How many many die faces?"
       },
       "output_type": "stream",
       "value": "7"
      },
      "2": {
       "name": "input",
       "opts": {
        "password": false,
        "prompt": "Would you like to play again? Yes or No"
       },
       "output_type": "stream",
       "value": "Yes"
      },
      "3": {
       "name": "input",
       "opts": {
        "password": false,
        "prompt": "How many many die faces?"
       },
       "output_type": "stream",
       "value": "9"
      },
      "5": {
       "name": "input",
       "opts": {
        "password": false,
        "prompt": "Would you like to play again? Yes or No"
       },
       "output_type": "stream",
       "value": "No"
      }
     }
    },
    "collapsed": false
   },
   "outputs": [
    {
     "name": "stdout",
     "output_type": "stream",
     "text": "How many many die faces? 7"
    },
    {
     "name": "stdout",
     "output_type": "stream",
     "text": [
      "4\n"
     ]
    },
    {
     "name": "stdout",
     "output_type": "stream",
     "text": "Would you like to play again? Yes or No Yes"
    },
    {
     "name": "stdout",
     "output_type": "stream",
     "text": "How many many die faces? 9"
    },
    {
     "name": "stdout",
     "output_type": "stream",
     "text": [
      "6\n"
     ]
    },
    {
     "name": "stdout",
     "output_type": "stream",
     "text": "Would you like to play again? Yes or No No"
    }
   ],
   "source": [
    "#Eric's solution!\n",
    "import random\n",
    "\n",
    "play_again = \"\"  # This empty variable is just so play_again can be filled eventually by the user and to give a condition to the while loop\n",
    "\n",
    "while play_again != \"No\":   #Once play_again = 'No', the while loop breaks\n",
    "    die_faces = input(\"How many many die faces?\")  #Takes in number of sides from the user\n",
    "    die_faces = int(die_faces)   #Converts the number of sides to an integer\n",
    "    dice_roll = random.randint(1, die_faces)   #This is the dice roll. The max value of the roll is the user's input\n",
    "    print(dice_roll)  #This is so the user can see the dice roll\n",
    "    play_again = input(\"Would you like to play again? Yes or No\")   #This is the prompt to play again"
   ]
  },
  {
   "cell_type": "code",
   "execution_count": 3,
   "metadata": {
    "collapsed": false
   },
   "outputs": [
    {
     "data": {
      "text/plain": [
       "2"
      ]
     },
     "execution_count": 3,
     "metadata": {
     },
     "output_type": "execute_result"
    }
   ],
   "source": [
    "1+1"
   ]
  },
  {
   "cell_type": "code",
   "execution_count": 0,
   "metadata": {
    "collapsed": false
   },
   "outputs": [
   ],
   "source": [
   ]
  }
 ],
 "metadata": {
  "interpreter": {
   "hash": "790a1b4df21474b492961c89d736dbdf6bfc8dfb962e88c04d650fa1afe63f4b"
  },
  "kernelspec": {
   "display_name": "Python (ds_env)",
   "language": "python",
   "metadata": {
    "debugger": true
   },
   "name": "ds_env",
   "resource_dir": "/projects/fcb825f6-f66b-4a54-ada4-8a051c1f921f/.local/share/jupyter/kernels/ds_env"
  },
  "language_info": {
   "codemirror_mode": {
    "name": "ipython",
    "version": 3
   },
   "file_extension": ".py",
   "mimetype": "text/x-python",
   "name": "python",
   "nbconvert_exporter": "python",
   "pygments_lexer": "ipython3",
   "version": "3.8.13"
  },
  "orig_nbformat": 4
 },
 "nbformat": 4,
 "nbformat_minor": 4
}