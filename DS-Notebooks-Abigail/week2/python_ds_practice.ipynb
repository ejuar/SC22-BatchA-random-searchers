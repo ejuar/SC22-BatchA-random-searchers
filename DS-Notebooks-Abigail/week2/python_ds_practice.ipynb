{
 "cells": [
  {
   "cell_type": "code",
   "execution_count": 21,
   "metadata": {
    "collapsed": false
   },
   "outputs": [
   ],
   "source": [
    "dict_colors={\n",
    "    'Athena': ['purple', 'pink', 'blue'],\n",
    "    'Kate': ['yellow', 'red', 'blue'],\n",
    "    'Tyler': ['green', 'blue', 'white']\n",
    "}"
   ]
  },
  {
   "cell_type": "code",
   "execution_count": 23,
   "metadata": {
    "collapsed": false
   },
   "outputs": [
   ],
   "source": [
    "athena=['purple', 'pink', 'blue']\n",
    "kate=['yellow', 'red', 'blue']\n",
    "tyler=['green', 'blue', 'white']\n",
    "colors_2={\n",
    "    'Athena2': athena,\n",
    "    'Kate2': kate,\n",
    "    'Tyler2': tyler\n",
    "}"
   ]
  },
  {
   "cell_type": "code",
   "execution_count": 20,
   "metadata": {
    "collapsed": false
   },
   "outputs": [
    {
     "name": "stdout",
     "output_type": "stream",
     "text": [
      "hi my name is Athena and my favorite colors are ['purple', 'pink', 'blue']\n",
      "hi my name is Kate and my favorite colors are ['yellow', 'red', 'blue']\n",
      "hi my name is Tyler and my favorite colors are ['green', 'blue', 'white']\n"
     ]
    }
   ],
   "source": [
    "for key,value in dict_colors.items():\n",
    "    print ('hi my name is', key,'and my favorite colors are', value)"
   ]
  },
  {
   "cell_type": "code",
   "execution_count": 0,
   "metadata": {
    "collapsed": false
   },
   "outputs": [
   ],
   "source": [
   ]
  }
 ],
 "metadata": {
  "kernelspec": {
   "display_name": "Python (ds_env)",
   "language": "python",
   "metadata": {
    "debugger": true
   },
   "name": "ds_env",
   "resource_dir": "/projects/fcb825f6-f66b-4a54-ada4-8a051c1f921f/.local/share/jupyter/kernels/ds_env"
  }
 },
 "nbformat": 4,
 "nbformat_minor": 4
}