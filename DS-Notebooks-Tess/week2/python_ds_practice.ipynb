{
 "cells": [
  {
   "cell_type": "code",
   "execution_count": 10,
   "metadata": {
    "collapsed": false
   },
   "outputs": [
    {
     "data": {
      "text/plain": [
       "{'Kayla:': ['blue', 'purple', 'green'],\n",
       " 'Taylor': ['red', 'blue', 'orange'],\n",
       " 'Dawn': ['yellow', 'pink', 'orange']}"
      ]
     },
     "execution_count": 10,
     "metadata": {
     },
     "output_type": "execute_result"
    }
   ],
   "source": [
    "dictionary = {\n",
    "   \n",
    "\n",
    "    \"Kayla:\":[\"blue\",\"purple\", \"green\"],\n",
    "    \"Taylor\":[\"red\", \"blue\", \"orange\"],\n",
    "    \"Dawn\":[\"yellow\", \"pink\", \"orange\"]\n",
    "    \n",
    "    \n",
    "}\n",
    "dictionary"
   ]
  },
  {
   "cell_type": "code",
   "execution_count": 11,
   "metadata": {
    "collapsed": false
   },
   "outputs": [
    {
     "name": "stdout",
     "output_type": "stream",
     "text": [
      "Hi my name is  Kayla: My favorite colors are  ['blue', 'purple', 'green']\n",
      "Hi my name is  Taylor My favorite colors are  ['red', 'blue', 'orange']\n",
      "Hi my name is  Dawn My favorite colors are  ['yellow', 'pink', 'orange']\n"
     ]
    }
   ],
   "source": [
    "for key, value in dictionary.items():\n",
    "    print(\"Hi my name is \",key,\"My favorite colors are \", value)"
   ]
  },
  {
   "cell_type": "markdown",
   "metadata": {
    "collapsed": false
   },
   "source": [
    "1. make a dictionary\n",
    "\n",
    "2. fill the keys with names of people\n",
    "\n",
    "3. fill the items with a list of each person's top 3 favorite colors\n",
    "\n",
    "4. iterate through the dictionary, printing \"Hi my name is \", name, \"my favorite colors are \", favorite colors\n",
    "\n"
   ]
  }
 ],
 "metadata": {
  "kernelspec": {
   "display_name": "Python (ds_env)",
   "language": "python",
   "metadata": {
    "debugger": true
   },
   "name": "ds_env",
   "resource_dir": "/projects/ac97617a-c983-43cb-bc0f-b3be4024b0ae/.local/share/jupyter/kernels/ds_env"
  }
 },
 "nbformat": 4,
 "nbformat_minor": 4
}