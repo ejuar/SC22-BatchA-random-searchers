{
 "cells": [
  {
   "cell_type": "markdown",
   "metadata": {
    "collapsed": false
   },
   "source": [
    "# HR Data Analytics\n",
    "## Problem\n",
    "Managerial accounting is used for internal purposes within a business to aid in business decision making. Direct labor costs are an important factor considered by managerial accountants when balancing budgets. Predicting the employees that will be promoted within a given year will aid in predicting future department budget allocations. Given a company’s employee information, classification models can be used to predict the employees that will be promoted in a given year.\n",
    "## Data\n",
    "The dataset used is an anonymous company’s HR data in one year obtained from Kaggle. The data is tabular with a size of ~50,000 rows and 14 columns. Each row describes an employee with column features such as “is_promoted,” “age,” “education,” “department,” etc.. The target column, “is_promoted”, is unbalanced because job promotions are generally selective; therefore, the null accuracy will be very high for this dataset."
   ]
  },
  {
   "cell_type": "markdown",
   "metadata": {
    "collapsed": false
   },
   "source": [
    "# Import Libraries"
   ]
  },
  {
   "cell_type": "code",
   "execution_count": 0,
   "metadata": {
    "collapsed": false
   },
   "outputs": [
   ],
   "source": [
    "import warnings\n",
    "warnings.filterwarnings('ignore')\n",
    "\n",
    "import numpy as np \n",
    "import pandas as pd \n",
    "import matplotlib.pyplot as plt\n",
    "import seaborn as sns\n",
    "import plotly.express as px\n",
    "from plotly.subplots import make_subplots\n",
    "import plotly.figure_factory as ff\n",
    "import plotly.graph_objects as go\n",
    "import math\n",
    "\n",
    "from sklearn.model_selection import train_test_split\n",
    "from sklearn.feature_selection import SelectKBest, chi2\n",
    "#from sklearn.preprocessing import StandardScaler, RobustScaler, MinMaxScaler\n",
    "#from imblearn.over_sampling import SMOTE\n",
    "#from imblearn.under_sampling import EditedNearestNeighbours\n",
    "#from imblearn.combine import SMOTEENN, SMOTETomek\n",
    "\n",
    "#from sklearn.linear_model import LogisticRegression, SGDClassifier\n",
    "#from sklearn.tree import DecisionTreeClassifier\n",
    "#from sklearn.ensemble import RandomForestClassifier, ExtraTreesClassifier, AdaBoostClassifier, GradientBoostingClassifier\n",
    "#from sklearn.neighbors import KNeighborsClassifier \n",
    "#from sklearn.svm import SVC\n",
    "#from sklearn.gaussian_process import GaussianProcessClassifier\n",
    "#from sklearn.neural_network import MLPClassifier\n",
    "#from lightgbm import LGBMClassifier\n",
    "#from xgboost.sklearn import XGBClassifier\n",
    "\n",
    "#from sklearn.model_selection import GridSearchCV, cross_val_score\n",
    "#from sklearn.metrics import confusion_matrix, classification_report, accuracy_score\n",
    "#from sklearn.metrics import plot_precision_recall_curve, precision_recall_curve\n",
    "#from sklearn import metrics\n",
    "#from sklearn.metrics import roc_curve, auc, roc_auc_score\n",
    "\n",
    "#from time import time"
   ]
  },
  {
   "cell_type": "markdown",
   "metadata": {
    "collapsed": false
   },
   "source": [
    "# Load Data"
   ]
  },
  {
   "cell_type": "code",
   "execution_count": 0,
   "metadata": {
    "collapsed": false
   },
   "outputs": [
   ],
   "source": [
    "hr_df = pd.read_csv(\"Data/hr_data.csv\")"
   ]
  },
  {
   "cell_type": "markdown",
   "metadata": {
    "collapsed": false
   },
   "source": [
    "The dataset is split into train and test subsets.\\\n",
    "All the exploratory data analysis will be performed on the training subset.\\\n",
    "The test subset will be unmodified and will only be used for testing model performance."
   ]
  },
  {
   "cell_type": "code",
   "execution_count": 0,
   "metadata": {
    "collapsed": false
   },
   "outputs": [
   ],
   "source": [
    "X_train, X_test, y_train, y_test = train_test_split(\n",
    "    hr_df.drop(labels=\"is_promoted\", axis=1), hr_df[\"is_promoted\"], \n",
    "    test_size=0.2, \n",
    "    stratify=hr_df[\"is_promoted\"], #Preserves proportion of labels between train and test data\n",
    "    random_state=42, #Ensures same shuffling throughout each run\n",
    ")"
   ]
  },
  {
   "cell_type": "code",
   "execution_count": 0,
   "metadata": {
    "collapsed": false
   },
   "outputs": [
   ],
   "source": [
    "train_df = X_train\n",
    "train_df[\"is_promoted\"] = y_train"
   ]
  },
  {
   "cell_type": "code",
   "execution_count": 0,
   "metadata": {
    "collapsed": false
   },
   "outputs": [
   ],
   "source": [
    "test_df = X_test\n",
    "test_df[\"is_promoted\"] = y_test\n",
    "test_df = test_df.dropna() #null values are dropped from test set. Null values cannot be imputed in test data."
   ]
  },
  {
   "cell_type": "markdown",
   "metadata": {
    "collapsed": false
   },
   "source": [
    "# Exploratory Data Analysis\n",
    "After loading HR data, data must be analyzed and the following will be considered:\n",
    "1. Feature data types\n",
    "2. Univariate analysis\n",
    "3. Outlier values\n",
    "4. Missing values\n",
    "5. Bivariate analysis"
   ]
  },
  {
   "cell_type": "markdown",
   "metadata": {
    "collapsed": false
   },
   "source": [
    "## Feature Data Types\n",
    "### Nominal Categorical Data\n",
    "\"employee_id\" -- Employee id's are unique identifiers which are arbitrarily assigned. This variable is not helpful in predicting promotions, so it will be dropped.\\\n",
    "\\\n",
    "\"department\", \"gender\", \"region\", \"recruitment_channel\" -- These features are categorical and do not have an intrinsic ordering.\\\n",
    "\\\n",
    "\"KPIs_met >80%\", \"awards_won?\", \"is_promoted\" -- These features are binary with no ordering.\n",
    "### Ordinal Categorical Data\n",
    "\"education\" -- Education is categorical and adheres to ordered levels of study\\\n",
    "\\\n",
    "\"previous_year_rating\" -- There are only five levels of previous year ratings in this company. These ratings do not represent a count or true measurement.\n",
    "### Interval Quantitative Data\n",
    "There are no instances of interval quantitative data in this dataset. All of the quantitative features have an absolute zero.\n",
    "### Ratio Quantitative Data\n",
    "\"no_of_trainings\", \"age\", \"avg_training_score\", \"length_of_service\" -- These features can be measured and have absolute zeros. In this dataset, all the numerical features happen to be discrete."
   ]
  },
  {
   "cell_type": "code",
   "execution_count": 0,
   "metadata": {
    "collapsed": false
   },
   "outputs": [
   ],
   "source": [
    "train_df.head(5)"
   ]
  },
  {
   "cell_type": "code",
   "execution_count": 0,
   "metadata": {
    "collapsed": false
   },
   "outputs": [
   ],
   "source": [
    "train_df.info()"
   ]
  },
  {
   "cell_type": "code",
   "execution_count": 0,
   "metadata": {
    "collapsed": false
   },
   "outputs": [
   ],
   "source": [
    "train_df.describe().T"
   ]
  },
  {
   "cell_type": "code",
   "execution_count": 0,
   "metadata": {
    "collapsed": false
   },
   "outputs": [
   ],
   "source": [
    "train_df.nunique()"
   ]
  },
  {
   "cell_type": "markdown",
   "metadata": {
    "collapsed": false
   },
   "source": [
    "## Data Separation\n",
    "The data is separated by data type to prepare for basic analysis.\n",
    "### Categorical Features"
   ]
  },
  {
   "cell_type": "code",
   "execution_count": 0,
   "metadata": {
    "collapsed": false
   },
   "outputs": [
   ],
   "source": [
    "categorical_df = train_df.select_dtypes(include=\"object\")\n",
    "categorical_df[\"KPIs_met >80%\"] = train_df[\"KPIs_met >80%\"] \n",
    "categorical_df[\"awards_won?\"] = train_df[\"awards_won?\"]\n",
    "categorical_df[\"previous_year_rating\"] = train_df[\"previous_year_rating\"]\n",
    "categorical_df[\"is_promoted\"] = train_df[\"is_promoted\"]\n",
    "categorical_df.head(3)"
   ]
  },
  {
   "cell_type": "markdown",
   "metadata": {
    "collapsed": false
   },
   "source": [
    "### Numerical Features"
   ]
  },
  {
   "cell_type": "code",
   "execution_count": 0,
   "metadata": {
    "collapsed": false
   },
   "outputs": [
   ],
   "source": [
    "numerical_df = train_df.select_dtypes(include=\"number\")\n",
    "numerical_df = numerical_df.drop(\n",
    "    labels=[\"employee_id\", \"awards_won?\", \"previous_year_rating\", \"KPIs_met >80%\", \"is_promoted\"], axis=1)\n",
    "numerical_df.describe().T"
   ]
  },
  {
   "cell_type": "markdown",
   "metadata": {
    "collapsed": false
   },
   "source": [
    "## Univariate Analysis\n",
    "The distributions of each feature are analyzed\n",
    "### Numerical Univariate Analysis\n",
    "Histograms are used to view the distributions of numerical features.\\\n",
    "Boxplots are used after to aid in viewing outliers.\\\n",
    "Analyzing the distribution of numerical features aids in outlier identification, and imputation for outliers or missing-values."
   ]
  },
  {
   "cell_type": "code",
   "execution_count": 0,
   "metadata": {
    "collapsed": false
   },
   "outputs": [
   ],
   "source": [
    "fig, ax = plt.subplots(figsize=(10,10), facecolor=\"white\")\n",
    "figure = numerical_df.hist(ax=ax)\n",
    "for ax in figure.flatten():\n",
    "    ax.set_ylabel(\"Count\", labelpad=5)"
   ]
  },
  {
   "cell_type": "code",
   "execution_count": 0,
   "metadata": {
    "collapsed": false
   },
   "outputs": [
   ],
   "source": [
    "for data in numerical_df.columns:\n",
    "    fig, ax = plt.subplots(facecolor=\"white\")\n",
    "    sns.boxplot(numerical_df[data])\n",
    "    fig.suptitle(f'\"{ax.get_xlabel().capitalize()}\" Data Distribution')\n",
    "    ax.set_xlabel(ax.get_xlabel().capitalize())\n",
    "    ax.set_ylabel(ax.get_ylabel().capitalize())"
   ]
  },
  {
   "cell_type": "markdown",
   "metadata": {
    "collapsed": false
   },
   "source": [
    "### Categorical Univariate Analysis\n",
    "Analyzing the distribution of categorical features aids in imputation for missing-values.\\\n",
    "In addition, these figures show that the target feature, \"is_promoted\", is imbalanced."
   ]
  },
  {
   "cell_type": "code",
   "execution_count": 0,
   "metadata": {
    "collapsed": false
   },
   "outputs": [
   ],
   "source": [
    "for category in categorical_df.columns:\n",
    "    fig, ax = plt.subplots(facecolor=\"white\")\n",
    "    sns.countplot(categorical_df[category])\n",
    "    fig.suptitle(f'\"{ax.get_xlabel().capitalize()}\" Data Count')\n",
    "    ax.set_xlabel(ax.get_xlabel().capitalize())\n",
    "    ax.set_ylabel(ax.get_ylabel().capitalize())\n",
    "    if len(categorical_df[category].unique()) > 8:\n",
    "        for tick in ax.get_xticklabels():\n",
    "            tick.set_rotation(90)"
   ]
  },
  {
   "cell_type": "markdown",
   "metadata": {
    "collapsed": false
   },
   "source": [
    "## Outlier Values\n",
    "All the numerical data, except \"avg_training_score\", have at least one outlier. Upon close inspection, the outlier values were determined to not be due to error in measurements. Therefore, it was decided to not remove or impute the values."
   ]
  },
  {
   "cell_type": "markdown",
   "metadata": {
    "collapsed": false
   },
   "source": [
    "## Missing Values\n",
    "There appears to be missing values in \"education\" and \"previous_year_rating\""
   ]
  },
  {
   "cell_type": "code",
   "execution_count": 0,
   "metadata": {
    "collapsed": false
   },
   "outputs": [
   ],
   "source": [
    "train_df.isna().sum()"
   ]
  },
  {
   "cell_type": "markdown",
   "metadata": {
    "collapsed": false
   },
   "source": [
    "The missing values in \"education\" were imputed with the mode category, \"Bachelor's Education\".\\\n",
    "The missing values in \"previous_year_rating\" were imputed with the mode rating, \"3\".\n",
    ">The imputation may be improved by using a nearest neighbor algorithm (sklearn.impute.KNNImputer)"
   ]
  },
  {
   "cell_type": "code",
   "execution_count": 0,
   "metadata": {
    "collapsed": false
   },
   "outputs": [
   ],
   "source": [
    "train_df[\"education\"].fillna(train_df[\"education\"].mode()[0],inplace=True)\n",
    "train_df[\"previous_year_rating\"].fillna(train_df[\"previous_year_rating\"].mode()[0],inplace=True)\n",
    "categorical_df[\"education\"].fillna(categorical_df[\"education\"].mode()[0],inplace=True)\n",
    "categorical_df[\"previous_year_rating\"].fillna(categorical_df[\"previous_year_rating\"].mode()[0],inplace=True)\n",
    "train_df.isna().sum()"
   ]
  },
  {
   "cell_type": "markdown",
   "metadata": {
    "collapsed": false
   },
   "source": [
    "## Bivariate Analysis\n",
    "Features are compared with target value \"is_promoted\"\n",
    "### Numerical Bivariate Analysis\n",
    "Out of the numerical features, it appears that \"avg_training_score\" has different mean values for each \"is_promoted\" target; employees that were promoted tend to have a higher average training score."
   ]
  },
  {
   "cell_type": "code",
   "execution_count": 0,
   "metadata": {
    "collapsed": false
   },
   "outputs": [
   ],
   "source": [
    "for data in numerical_df.columns:\n",
    "    fig, ax = plt.subplots(facecolor=\"white\")\n",
    "    sns.boxplot(x=\"is_promoted\", y=data, data=train_df)\n",
    "    ax.set_xlabel(ax.get_xlabel().capitalize())\n",
    "    ax.set_ylabel(ax.get_ylabel().capitalize())"
   ]
  },
  {
   "cell_type": "markdown",
   "metadata": {
    "collapsed": false
   },
   "source": [
    "### Categorical Bivariate Analysis\n",
    "There are noticeable differences in promotion among the \"KPIs Met >80%\", \"Awards Won?\", and \"Previous Year Rating\" features."
   ]
  },
  {
   "cell_type": "code",
   "execution_count": 0,
   "metadata": {
    "collapsed": false
   },
   "outputs": [
   ],
   "source": [
    "for category in categorical_df.drop(labels=\"is_promoted\", axis=1).columns:\n",
    "    fig, ax = plt.subplots(facecolor=\"white\")\n",
    "    #sns.countplot(categorical_df[category], hue=categorical_df[\"is_promoted\"])\n",
    "    data = pd.crosstab(categorical_df[category], categorical_df[\"is_promoted\"])\n",
    "    data.div(data.sum(1).astype('float'),axis=0).plot(kind='bar', stacked=True, ax=ax)\n",
    "    \n",
    "    fig.suptitle(f'\"{ax.get_xlabel().capitalize()}\" Proportion \"Is_promoted\"')\n",
    "    ax.set_xlabel(ax.get_xlabel().capitalize())\n",
    "    ax.set_ylabel(ax.get_ylabel().capitalize())\n",
    "    if len(categorical_df[category].unique()) > 8:\n",
    "        for tick in ax.get_xticklabels():\n",
    "            tick.set_rotation(90)"
   ]
  },
  {
   "cell_type": "markdown",
   "metadata": {
    "collapsed": false
   },
   "source": [
    "# Data Processing\n",
    "## Correlation Heatmap\n",
    "Pairs of features with high absolute correlations must be corrected by removing one of the correlated features.\\\n",
    "As shown by the correlation matrix, the numerical features and binary features do not appear to be highly correlated. Numerical features and binary features will not be removed from this step. Some binary features may be removed after a Chi-Square test of independence."
   ]
  },
  {
   "cell_type": "code",
   "execution_count": 0,
   "metadata": {
    "collapsed": false
   },
   "outputs": [
   ],
   "source": [
    "binary_df = categorical_df[[\"gender\",\"KPIs_met >80%\",\"awards_won?\",\"is_promoted\"]]\n",
    "binary_df[\"gender\"] = binary_df[\"gender\"].replace({\"f\":1,\"m\":0})"
   ]
  },
  {
   "cell_type": "code",
   "execution_count": 0,
   "metadata": {
    "collapsed": false
   },
   "outputs": [
   ],
   "source": [
    "fig, ax = plt.subplots(figsize=(10,8), facecolor=\"white\")\n",
    "sns.heatmap(pd.concat([numerical_df, binary_df], axis=1).corr(), ax=ax, \n",
    "            linewidths=0.5, annot=True, cmap=sns.color_palette(\"Greens\"))\n",
    "ax.set_title(\"Correlation Heatmap of HR Data\", pad=10, fontsize = 20)"
   ]
  },
  {
   "cell_type": "markdown",
   "metadata": {
    "collapsed": false
   },
   "source": [
    "## Categorical Feature Selection\n",
    "A Chi-Square test of independence is used to find the relationship between the input features and output feature.\\\n",
    "The Chi-Square test of independence assumes the null hypothesis \"each input feature and target feature are independent of each other.\"\\\n",
    "If the p-value is less than the decided significance value, the null hypothesis is rejected; there is a statistically significant association between the input feature and target feature."
   ]
  },
  {
   "cell_type": "code",
   "execution_count": 0,
   "metadata": {
    "collapsed": false
   },
   "outputs": [
   ],
   "source": [
    "chi2_feature_df = categorical_df.drop(labels=\"is_promoted\", axis=1)\n",
    "chi2_feature_df[\"gender\"] = chi2_feature_df[\"gender\"].replace({\"f\":1,\"m\":0})\n",
    "chi2_feature_df[\"education\"] = chi2_feature_df[\"education\"].replace({\"Master's & above\":2, \"Bachelor's\":1, \"Below Secondary\":0})\n",
    "chi2_feature_df = pd.get_dummies(chi2_feature_df)"
   ]
  },
  {
   "cell_type": "markdown",
   "metadata": {
    "collapsed": false
   },
   "source": [
    "It was found that removing categorical features with p-values greater than 0.2 improved model performances the most."
   ]
  },
  {
   "cell_type": "code",
   "execution_count": 0,
   "metadata": {
    "collapsed": false
   },
   "outputs": [
   ],
   "source": [
    "chi2_out = SelectKBest(chi2, k=\"all\").fit(chi2_feature_df, categorical_df[\"is_promoted\"])\n",
    "chi2_out_df = pd.DataFrame(np.array([chi2_out.pvalues_, chi2_out.scores_]).T,\n",
    "                         index=chi2_feature_df.columns, \n",
    "                         columns=[\"pvalue\", \"score\"])\n",
    "remove_df = chi2_out_df[chi2_out_df[\"pvalue\"] > 0.20]\n",
    "remove_df.index"
   ]
  },
  {
   "cell_type": "markdown",
   "metadata": {
    "collapsed": false
   },
   "source": [
    "# Project Visualizations\n",
    "Interactive figures used for project website"
   ]
  },
  {
   "cell_type": "code",
   "execution_count": 0,
   "metadata": {
    "collapsed": false
   },
   "outputs": [
   ],
   "source": [
    "fig_title_size = 20\n",
    "axes_title_size = 17\n",
    "write_html = False"
   ]
  },
  {
   "cell_type": "markdown",
   "metadata": {
    "collapsed": false
   },
   "source": [
    "## Numerical Feature Histograms\n",
    "This figure was used for data cleaning."
   ]
  },
  {
   "cell_type": "code",
   "execution_count": 0,
   "metadata": {
    "collapsed": false
   },
   "outputs": [
   ],
   "source": [
    "fig = make_subplots(\n",
    "    rows=2, cols=2,\n",
    "    subplot_titles=(\"Age\", \"No. of Trainings\", \"Avg. Training Score\", \"Length of Service\"),\n",
    ")\n",
    "\n",
    "trace0 = go.Histogram(x=numerical_df[\"age\"], hoverlabel=dict(namelength=0))\n",
    "trace1 = go.Histogram(x=numerical_df[\"no_of_trainings\"], hoverlabel=dict(namelength=0))\n",
    "trace2 = go.Histogram(x=numerical_df[\"avg_training_score\"], hoverlabel=dict(namelength=0))\n",
    "trace3 = go.Histogram(x=numerical_df[\"length_of_service\"], hoverlabel=dict(namelength=0))\n",
    "\n",
    "fig.append_trace(trace0, 1, 1)\n",
    "fig.append_trace(trace1, 1, 2)\n",
    "fig.append_trace(trace2, 2, 1)\n",
    "fig.append_trace(trace3, 2, 2)\n",
    "\n",
    "fig.update_layout( \n",
    "    title=\"Numerical Feature Histograms\",\n",
    "    showlegend=False,\n",
    "    width=700, height=550\n",
    ")\n",
    "\n",
    "fig['layout']['title']['font']['size'] = fig_title_size\n",
    "for annotation in fig['layout']['annotations']:\n",
    "    annotation.font.size = axes_title_size\n",
    "\n",
    "if write_html:\n",
    "    fig.write_html(\"items/numerical_histogram.html\")\n",
    "fig.show()"
   ]
  },
  {
   "cell_type": "markdown",
   "metadata": {
    "collapsed": false
   },
   "source": [
    "## Categorical Feature Bar Charts\n",
    "This figure was used for data cleaning."
   ]
  },
  {
   "cell_type": "code",
   "execution_count": 0,
   "metadata": {
    "collapsed": false
   },
   "outputs": [
   ],
   "source": [
    "fig = make_subplots(\n",
    "    rows=3, cols=3,\n",
    "    subplot_titles=(\n",
    "        \"Gender\",\"Recruitment Channel\",\"previous_year_rating\", \"KPIs Met >80%\",\n",
    "        \"Awards Won?\",\"Is Promoted\", \"Department\",\"Region\",\"Education\"),\n",
    ")\n",
    "\n",
    "data_vc = categorical_df[\"gender\"].value_counts()\n",
    "categories, values = list(data_vc.index), data_vc.to_numpy()\n",
    "trace = go.Bar(x=categories, y=values, hoverlabel=dict(namelength=0))\n",
    "fig.append_trace(trace, 1, 1)\n",
    "\n",
    "data_vc = categorical_df[\"recruitment_channel\"].value_counts()\n",
    "categories, values = list(data_vc.index), data_vc.to_numpy()\n",
    "trace = go.Bar(x=categories, y=values, hoverlabel=dict(namelength=0))\n",
    "fig.append_trace(trace, 1, 2)\n",
    "\n",
    "data_vc = categorical_df[\"previous_year_rating\"].value_counts()\n",
    "categories, values = list(data_vc.index), data_vc.to_numpy()\n",
    "trace = go.Bar(x=categories, y=values, hoverlabel=dict(namelength=0))\n",
    "fig.append_trace(trace, 1, 3)\n",
    "\n",
    "data_vc = categorical_df[\"KPIs_met >80%\"].value_counts()\n",
    "categories, values = list(data_vc.index), data_vc.to_numpy()\n",
    "trace = go.Bar(x=[\"No\", \"Yes\"], y=values, hoverlabel=dict(namelength=0))\n",
    "fig.append_trace(trace, 2, 1)\n",
    "\n",
    "data_vc = categorical_df[\"awards_won?\"].value_counts()\n",
    "categories, values = list(data_vc.index), data_vc.to_numpy()\n",
    "trace = go.Bar(x=[\"No\", \"Yes\"], y=values, hoverlabel=dict(namelength=0))\n",
    "fig.append_trace(trace, 2, 2)\n",
    "\n",
    "data_vc = hr_df[\"is_promoted\"].value_counts()\n",
    "categories, values = list(data_vc.index), data_vc.to_numpy()\n",
    "trace = go.Bar(x=[\"No\", \"Yes\"], y=values, hoverlabel=dict(namelength=0))\n",
    "fig.append_trace(trace, 2, 3)\n",
    "\n",
    "data_vc = categorical_df[\"department\"].value_counts()\n",
    "categories, values = list(data_vc.index), data_vc.to_numpy()\n",
    "trace = go.Bar(x=categories, y=values, hoverlabel=dict(namelength=0))\n",
    "fig.append_trace(trace, 3, 1)\n",
    "\n",
    "data_vc = categorical_df[\"region\"].value_counts()\n",
    "categories, values = list(data_vc.index), data_vc.to_numpy()\n",
    "trace = go.Bar(x=categories, y=values, hoverlabel=dict(namelength=0))\n",
    "fig.append_trace(trace, 3, 2)\n",
    "\n",
    "data_vc = categorical_df[\"education\"].value_counts()\n",
    "categories, values = list(data_vc.index), data_vc.to_numpy()\n",
    "trace = go.Bar(x=categories, y=values, hoverlabel=dict(namelength=0))\n",
    "fig.append_trace(trace, 3, 3)\n",
    "\n",
    "fig.update_layout( \n",
    "    title=\"Categorical Feature Bar Charts\",\n",
    "    showlegend=False,\n",
    "    width=888, height=700\n",
    ")\n",
    "\n",
    "fig['layout']['title']['font']['size'] = fig_title_size\n",
    "for annotation in fig['layout']['annotations']:\n",
    "    annotation.font.size = axes_title_size\n",
    "\n",
    "if write_html:\n",
    "    fig.write_html(\"items/categorical_barchart.html\")\n",
    "fig.show()"
   ]
  },
  {
   "cell_type": "markdown",
   "metadata": {
    "collapsed": false
   },
   "source": [
    "## Numerical Features vs Promotion Distributions\n",
    "This figure was used to identify simple trends in promotions."
   ]
  },
  {
   "cell_type": "code",
   "execution_count": 0,
   "metadata": {
    "collapsed": false
   },
   "outputs": [
   ],
   "source": [
    "fig = make_subplots(\n",
    "    rows=2, cols=2,\n",
    "    subplot_titles=(\"No. of Trainings\", \"Age\", \"Avg. Training Score\", \"Length of Service\"),\n",
    ")\n",
    "trace0 = go.Box(y=numerical_df[\"no_of_trainings\"], \n",
    "                x=categorical_df[\"is_promoted\"].replace({0:\"not promoted\", 1:\"promoted\"}), \n",
    "                hoverlabel=dict(namelength=0))  \n",
    "trace1 = go.Box(y=numerical_df[\"age\"], \n",
    "                x=categorical_df[\"is_promoted\"].replace({0:\"not promoted\", 1:\"promoted\"}), \n",
    "                hoverlabel=dict(namelength=0))  \n",
    "trace2 = go.Box(y=numerical_df[\"avg_training_score\"], \n",
    "                x=categorical_df[\"is_promoted\"].replace({0:\"not promoted\", 1:\"promoted\"}), \n",
    "                hoverlabel=dict(namelength=0))  \n",
    "trace3 = go.Box(y=numerical_df[\"length_of_service\"], \n",
    "                x=categorical_df[\"is_promoted\"].replace({0:\"not promoted\", 1:\"promoted\"}), \n",
    "                hoverlabel=dict(namelength=0))  \n",
    "\n",
    "fig.append_trace(trace0, 1, 1)\n",
    "fig.append_trace(trace1, 1, 2)\n",
    "fig.append_trace(trace2, 2, 1)\n",
    "fig.append_trace(trace3, 2, 2)\n",
    "\n",
    "fig.update_layout( \n",
    "    title=\"Numerical Features vs Promotion Distributions\",\n",
    "    showlegend=False,\n",
    "    width=700, height=550\n",
    ")\n",
    "\n",
    "fig['layout']['title']['font']['size'] = fig_title_size\n",
    "for annotation in fig['layout']['annotations']:\n",
    "    annotation.font.size = axes_title_size\n",
    "\n",
    "if write_html:\n",
    "    fig.write_html(\"items/numerical_promotion_boxplot.html\")\n",
    "fig.show()"
   ]
  },
  {
   "cell_type": "markdown",
   "metadata": {
    "collapsed": false
   },
   "source": [
    "## Categorical Features vs Promotion Proportions\n",
    "This figure was used to identify simple trends in promotions."
   ]
  },
  {
   "cell_type": "code",
   "execution_count": 0,
   "metadata": {
    "collapsed": false
   },
   "outputs": [
   ],
   "source": [
    "fig = make_subplots(\n",
    "    rows=3, cols=3,\n",
    "    subplot_titles=(\n",
    "        \"Recruitment Channel\",\"Previous Year Rating\", \"KPIs Met >80%\",\n",
    "        \"Awards Won?\",\"Gender\",\"Education\",\"Department\",\"Region\"),\n",
    "    vertical_spacing = 0.15,\n",
    ")\n",
    "\n",
    "data = pd.crosstab(categorical_df[\"recruitment_channel\"], categorical_df[\"is_promoted\"])\n",
    "data = data.div(data.sum(1).astype('float'),axis=0)\n",
    "trace = go.Bar(x=data.index, y=data[0], offsetgroup=0, name=\"not promoted\")\n",
    "fig.append_trace(trace, 1, 1)\n",
    "trace = go.Bar(x=data.index, y=data[1], offsetgroup=0, base=data[0], name=\"promoted\")\n",
    "fig.append_trace(trace, 1, 1)\n",
    "\n",
    "data = pd.crosstab(categorical_df[\"previous_year_rating\"], categorical_df[\"is_promoted\"])\n",
    "data = data.div(data.sum(1).astype('float'),axis=0)\n",
    "trace = go.Bar(x=data.index, y=data[0], offsetgroup=0, name=\"not promoted\")\n",
    "fig.append_trace(trace, 1, 2)\n",
    "trace = go.Bar(x=data.index, y=data[1], offsetgroup=0, base=data[0], name=\"promoted\")\n",
    "fig.append_trace(trace, 1, 2)\n",
    "\n",
    "data = pd.crosstab(categorical_df[\"KPIs_met >80%\"], categorical_df[\"is_promoted\"])\n",
    "data = data.div(data.sum(1).astype('float'),axis=0)\n",
    "trace = go.Bar(x=[\"No\", \"Yes\"], y=data[0], offsetgroup=0, name=\"not promoted\")\n",
    "fig.append_trace(trace, 1, 3)\n",
    "trace = go.Bar(x=[\"No\", \"Yes\"], y=data[1], offsetgroup=0, base=data[0], name=\"promoted\")\n",
    "fig.append_trace(trace, 1, 3)\n",
    "\n",
    "data = pd.crosstab(categorical_df[\"awards_won?\"], categorical_df[\"is_promoted\"])\n",
    "data = data.div(data.sum(1).astype('float'),axis=0)\n",
    "trace = go.Bar(x=[\"No\", \"Yes\"], y=data[0], offsetgroup=0, name=\"not promoted\")\n",
    "fig.append_trace(trace, 2, 1)\n",
    "trace = go.Bar(x=[\"No\", \"Yes\"], y=data[1], offsetgroup=0, base=data[0], name=\"promoted\")\n",
    "fig.append_trace(trace, 2, 1)\n",
    "\n",
    "data = pd.crosstab(categorical_df[\"gender\"], categorical_df[\"is_promoted\"])\n",
    "data = data.div(data.sum(1).astype('float'),axis=0)\n",
    "trace = go.Bar(x=[\"Female\", \"Male\"], y=data[0], offsetgroup=0, name=\"not promoted\")\n",
    "fig.append_trace(trace, 2, 2)\n",
    "trace = go.Bar(x=[\"Female\", \"Male\"], y=data[1], offsetgroup=0, base=data[0], name=\"promoted\")\n",
    "fig.append_trace(trace, 2, 2)\n",
    "\n",
    "data = pd.crosstab(categorical_df[\"education\"], categorical_df[\"is_promoted\"])\n",
    "data = data.div(data.sum(1).astype('float'),axis=0)\n",
    "trace = go.Bar(x=data.index, y=data[0], offsetgroup=0, name=\"not promoted\")\n",
    "fig.append_trace(trace, 2, 3)\n",
    "trace = go.Bar(x=data.index, y=data[1], offsetgroup=0, base=data[0], name=\"promoted\")\n",
    "fig.append_trace(trace, 2, 3)\n",
    "\n",
    "data = pd.crosstab(categorical_df[\"department\"], categorical_df[\"is_promoted\"])\n",
    "data = data.div(data.sum(1).astype('float'),axis=0)\n",
    "trace = go.Bar(x=data.index, y=data[0], offsetgroup=0, name=\"not promoted\")\n",
    "fig.append_trace(trace, 3, 1)\n",
    "trace = go.Bar(x=data.index, y=data[1], offsetgroup=0, base=data[0], name=\"promoted\")\n",
    "fig.append_trace(trace, 3, 1)\n",
    "\n",
    "data = pd.crosstab(categorical_df[\"region\"], categorical_df[\"is_promoted\"])\n",
    "data = data.div(data.sum(1).astype('float'),axis=0)\n",
    "trace = go.Bar(x=data.index, y=data[0], offsetgroup=0, name=\"not promoted\")\n",
    "fig.append_trace(trace, 3, 2)\n",
    "trace = go.Bar(x=data.index, y=data[1], offsetgroup=0, base=data[0], name=\"promoted\")\n",
    "fig.append_trace(trace, 3, 2)\n",
    "\n",
    "fig.update_layout( \n",
    "    title=\"Categorical Features vs Promotion Proportions\",\n",
    "    showlegend=False,\n",
    "    width=888, height=700\n",
    ")\n",
    "\n",
    "fig['layout']['title']['font']['size'] = fig_title_size\n",
    "for annotation in fig['layout']['annotations']:\n",
    "    annotation.font.size = axes_title_size\n",
    "\n",
    "if write_html:\n",
    "    fig.write_html(\"items/categorical_promotion_barchart.html\")\n",
    "fig.show()"
   ]
  },
  {
   "cell_type": "markdown",
   "metadata": {
    "collapsed": false
   },
   "source": [
    "## Correlation Heatmap\n",
    "This figure was used for numerical feature and binary feature selection.\\\n",
    "In this project, no numerical features or binary features were omitted."
   ]
  },
  {
   "cell_type": "code",
   "execution_count": 0,
   "metadata": {
    "collapsed": false
   },
   "outputs": [
   ],
   "source": [
    "fig = px.imshow(pd.concat([numerical_df, binary_df], axis=1).corr(), \n",
    "                width=888, height=700, text_auto=True, labels={\"color\": \"Correlation\"},\n",
    "                color_continuous_scale=\"RdBu\", range_color=(-1,1))\n",
    "fig.update_layout(title={\n",
    "    'text': \"Correlation Heatmap\",\n",
    "    'font': {'size': fig_title_size},\n",
    "    'y': 0.96})\n",
    "\n",
    "if write_html:\n",
    "    fig.write_html(\"items/correlation_heatmap.html\")\n",
    "fig.show()"
   ]
  },
  {
   "cell_type": "markdown",
   "metadata": {
    "collapsed": false
   },
   "source": [
    "## Categorical Feature P-Value Distribution \n",
    "This figure was used for categorical feature selection.\\\n",
    "For this project, features with a p-value greater than 0.2 were omitted."
   ]
  },
  {
   "cell_type": "code",
   "execution_count": 0,
   "metadata": {
    "collapsed": false
   },
   "outputs": [
   ],
   "source": [
    "chi2_sort_df = chi2_out_df.sort_values(by=\"pvalue\")\n",
    "fig = px.bar(x=chi2_sort_df.index, y=chi2_sort_df[\"pvalue\"], color = (chi2_sort_df[\"pvalue\"] > 0.2),\n",
    "            labels={\"x\":\"Feature\", \"y\": \"P-Value\", \"color\": \"Omitted\"})\n",
    "fig.update_layout(\n",
    "    title={'text':\"Categorical Feature P-Value Distribution\",\n",
    "        'font': {'size': fig_title_size}},\n",
    "    xaxis={'title':{'font': {'size': axes_title_size}}},\n",
    "    yaxis={'title':{'font': {'size': axes_title_size}}},\n",
    "    showlegend=False, width=888, height=500)\n",
    "\n",
    "if write_html:\n",
    "    fig.write_html(\"items/categorical_pvalues.html\")\n",
    "fig.show()"
   ]
  },
  {
   "cell_type": "code",
   "execution_count": 0,
   "metadata": {
    "collapsed": false
   },
   "outputs": [
   ],
   "source": [
   ]
  }
 ],
 "metadata": {
  "kernelspec": {
   "display_name": "Python (ds_env)",
   "language": "python",
   "metadata": {
    "debugger": true
   },
   "name": "ds_env",
   "resource_dir": "/projects/ac97617a-c983-43cb-bc0f-b3be4024b0ae/.local/share/jupyter/kernels/ds_env"
  },
  "language_info": {
   "codemirror_mode": {
    "name": "ipython",
    "version": 3
   },
   "file_extension": ".py",
   "mimetype": "text/x-python",
   "name": "python",
   "nbconvert_exporter": "python",
   "pygments_lexer": "ipython3",
   "version": "3.8.13"
  }
 },
 "nbformat": 4,
 "nbformat_minor": 4
}